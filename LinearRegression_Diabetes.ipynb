{
 "cells": [
  {
   "cell_type": "code",
   "execution_count": 1,
   "metadata": {},
   "outputs": [],
   "source": [
    "from sklearn import datasets, linear_model\n",
    "from sklearn.model_selection import train_test_split\n",
    "from sklearn.metrics import mean_squared_error, r2_score\n",
    "import matplotlib.pyplot as plt\n",
    "import seaborn as sns\n",
    "%matplotlib inline"
   ]
  },
  {
   "cell_type": "code",
   "execution_count": 2,
   "metadata": {},
   "outputs": [],
   "source": [
    "diabetes = datasets.load_diabetes()"
   ]
  },
  {
   "cell_type": "code",
   "execution_count": 3,
   "metadata": {},
   "outputs": [
    {
     "name": "stdout",
     "output_type": "stream",
     "text": [
      ".. _diabetes_dataset:\n",
      "\n",
      "Diabetes dataset\n",
      "----------------\n",
      "\n",
      "Ten baseline variables, age, sex, body mass index, average blood\n",
      "pressure, and six blood serum measurements were obtained for each of n =\n",
      "442 diabetes patients, as well as the response of interest, a\n",
      "quantitative measure of disease progression one year after baseline.\n",
      "\n",
      "**Data Set Characteristics:**\n",
      "\n",
      "  :Number of Instances: 442\n",
      "\n",
      "  :Number of Attributes: First 10 columns are numeric predictive values\n",
      "\n",
      "  :Target: Column 11 is a quantitative measure of disease progression one year after baseline\n",
      "\n",
      "  :Attribute Information:\n",
      "      - age     age in years\n",
      "      - sex\n",
      "      - bmi     body mass index\n",
      "      - bp      average blood pressure\n",
      "      - s1      tc, T-Cells (a type of white blood cells)\n",
      "      - s2      ldl, low-density lipoproteins\n",
      "      - s3      hdl, high-density lipoproteins\n",
      "      - s4      tch, thyroid stimulating hormone\n",
      "      - s5      ltg, lamotrigine\n",
      "      - s6      glu, blood sugar level\n",
      "\n",
      "Note: Each of these 10 feature variables have been mean centered and scaled by the standard deviation times `n_samples` (i.e. the sum of squares of each column totals 1).\n",
      "\n",
      "Source URL:\n",
      "https://www4.stat.ncsu.edu/~boos/var.select/diabetes.html\n",
      "\n",
      "For more information see:\n",
      "Bradley Efron, Trevor Hastie, Iain Johnstone and Robert Tibshirani (2004) \"Least Angle Regression,\" Annals of Statistics (with discussion), 407-499.\n",
      "(https://web.stanford.edu/~hastie/Papers/LARS/LeastAngle_2002.pdf)\n"
     ]
    }
   ],
   "source": [
    "print(diabetes.DESCR)"
   ]
  },
  {
   "cell_type": "code",
   "execution_count": 4,
   "metadata": {},
   "outputs": [
    {
     "name": "stdout",
     "output_type": "stream",
     "text": [
      "['age', 'sex', 'bmi', 'bp', 's1', 's2', 's3', 's4', 's5', 's6']\n",
      "(442, 10) (442,)\n"
     ]
    }
   ],
   "source": [
    "X = diabetes.data\n",
    "Y = diabetes.target\n",
    "print(diabetes.feature_names)\n",
    "print(X.shape, Y.shape)"
   ]
  },
  {
   "cell_type": "code",
   "execution_count": 5,
   "metadata": {},
   "outputs": [],
   "source": [
    "X_train, X_test, Y_train, Y_test = train_test_split(X, Y, test_size = 0.2)"
   ]
  },
  {
   "cell_type": "code",
   "execution_count": 6,
   "metadata": {},
   "outputs": [
    {
     "name": "stdout",
     "output_type": "stream",
     "text": [
      "(353, 10) (353,)\n",
      "(89, 10) (89,)\n"
     ]
    }
   ],
   "source": [
    "print(X_train.shape, Y_train.shape)\n",
    "print(X_test.shape, Y_test.shape)"
   ]
  },
  {
   "cell_type": "code",
   "execution_count": 7,
   "metadata": {},
   "outputs": [],
   "source": [
    "model = linear_model.LinearRegression()"
   ]
  },
  {
   "cell_type": "code",
   "execution_count": 8,
   "metadata": {},
   "outputs": [
    {
     "data": {
      "text/plain": [
       "LinearRegression()"
      ]
     },
     "execution_count": 8,
     "metadata": {},
     "output_type": "execute_result"
    }
   ],
   "source": [
    "model.fit(X_train, Y_train)"
   ]
  },
  {
   "cell_type": "code",
   "execution_count": 9,
   "metadata": {},
   "outputs": [],
   "source": [
    "Y_pred = model.predict(X_test)"
   ]
  },
  {
   "cell_type": "code",
   "execution_count": 10,
   "metadata": {},
   "outputs": [
    {
     "name": "stdout",
     "output_type": "stream",
     "text": [
      "Coefficient:  [  22.24779306 -248.24609844  511.46153952  396.5937917  -723.61660858\n",
      "  454.18901764   82.13024751  199.861369    634.93018438   69.3185572 ]\n",
      "Intercept:  152.41361207324218\n",
      "MSE: 3058.96\n",
      "R2E: 0.47\n"
     ]
    }
   ],
   "source": [
    "print(\"Coefficient: \", model.coef_)\n",
    "print(\"Intercept: \" , model.intercept_)\n",
    "print(\"MSE: %.2f\" % mean_squared_error(Y_test, Y_pred))\n",
    "print(\"R2E: %.2f\" % r2_score(Y_test, Y_pred))"
   ]
  },
  {
   "cell_type": "code",
   "execution_count": 11,
   "metadata": {},
   "outputs": [
    {
     "name": "stderr",
     "output_type": "stream",
     "text": [
      "C:\\Users\\user\\anaconda3\\lib\\site-packages\\seaborn\\_decorators.py:36: FutureWarning: Pass the following variables as keyword args: x, y. From version 0.12, the only valid positional argument will be `data`, and passing other arguments without an explicit keyword will result in an error or misinterpretation.\n",
      "  warnings.warn(\n"
     ]
    },
    {
     "data": {
      "text/plain": [
       "<AxesSubplot:>"
      ]
     },
     "execution_count": 11,
     "metadata": {},
     "output_type": "execute_result"
    },
    {
     "data": {
      "image/png": "[encoded data removed]",
      "text/plain": [
       "<Figure size 432x288 with 1 Axes>"
      ]
     },
     "metadata": {
      "needs_background": "light"
     },
     "output_type": "display_data"
    }
   ],
   "source": [
    "sns.scatterplot(Y_test, Y_pred, alpha=0.2)"
   ]
  },
  {
   "cell_type": "code",
   "execution_count": 12,
   "metadata": {},
   "outputs": [
    {
     "name": "stdout",
     "output_type": "stream",
     "text": [
      "165.76452943171617 128.0\n",
      "110.16929854210281 61.0\n",
      "104.77258629603547 63.0\n",
      "92.01483150727313 80.0\n",
      "211.05254513221462 275.0\n",
      "156.18538792370376 95.0\n",
      "100.45475738556203 152.0\n",
      "102.11606391547343 97.0\n",
      "190.64584326920527 163.0\n",
      "240.17549451447857 281.0\n",
      "71.45671688151293 134.0\n",
      "138.0505964126411 185.0\n",
      "136.835488267307 49.0\n",
      "183.54162734573276 277.0\n",
      "192.01685556428453 220.0\n",
      "88.3787782711787 49.0\n",
      "182.92594617244777 164.0\n",
      "154.6467502399202 85.0\n",
      "62.35694382370062 39.0\n",
      "67.2128151017304 104.0\n",
      "88.98606086832734 87.0\n",
      "75.8193952168175 77.0\n",
      "54.95871959499803 96.0\n",
      "254.14125295617552 273.0\n",
      "134.522032405065 135.0\n",
      "95.47377727191893 54.0\n",
      "114.53469389664555 102.0\n",
      "181.41681575336753 167.0\n",
      "243.5271268735367 275.0\n",
      "125.12820144718879 83.0\n",
      "170.87932922752086 174.0\n",
      "113.8948799330191 108.0\n",
      "190.63252547564304 197.0\n",
      "121.06100326918552 214.0\n",
      "231.4127094098916 155.0\n",
      "115.99483438279113 183.0\n",
      "92.72275088686814 64.0\n",
      "161.26429889176265 154.0\n",
      "240.31123508400523 280.0\n",
      "175.4348931308562 140.0\n",
      "149.80176609178636 276.0\n",
      "47.27489277399616 72.0\n",
      "157.74274435915913 110.0\n",
      "179.35869553723444 77.0\n",
      "159.10668458033757 91.0\n",
      "64.57051860998791 72.0\n",
      "59.08853732276114 70.0\n",
      "142.46921272787645 182.0\n",
      "67.83312283468908 83.0\n",
      "185.69826631418618 142.0\n",
      "99.45519272228114 65.0\n",
      "106.19213223622492 111.0\n",
      "142.39379776001283 95.0\n",
      "184.1283011658067 84.0\n",
      "190.92577952216135 67.0\n",
      "117.96312574020672 153.0\n",
      "169.10513480271612 121.0\n",
      "149.40437769969355 50.0\n",
      "205.78826633753013 265.0\n",
      "176.10170407181369 262.0\n",
      "76.91298445977034 92.0\n",
      "221.7497991630657 332.0\n",
      "139.8955719149354 172.0\n",
      "87.53044457468445 94.0\n",
      "177.87279222260256 161.0\n",
      "120.43830985438856 168.0\n",
      "141.04999204058203 202.0\n",
      "227.0623252969422 317.0\n",
      "78.8291098634432 72.0\n",
      "161.23143899407557 206.0\n",
      "126.77951693881698 74.0\n",
      "94.0829762206569 113.0\n",
      "181.86796130412384 124.0\n",
      "146.136697171697 25.0\n",
      "113.28557907887966 88.0\n",
      "261.9609537948325 220.0\n",
      "180.12841508594644 174.0\n",
      "160.86775407254052 185.0\n",
      "101.08147375239757 104.0\n",
      "44.6090426787614 116.0\n",
      "89.83265737495097 55.0\n",
      "178.41042540010568 66.0\n",
      "101.31157317699208 125.0\n",
      "123.08266286775734 59.0\n",
      "162.69096524254346 245.0\n",
      "167.2304862365797 265.0\n",
      "120.50992328150738 60.0\n",
      "51.913007168912756 65.0\n",
      "219.1690519560679 275.0\n"
     ]
    }
   ],
   "source": [
    "for i in range(len(Y_pred)):\n",
    "    print(Y_pred[i], Y_test[i])"
   ]
  },
  {
   "cell_type": "code",
   "execution_count": null,
   "metadata": {},
   "outputs": [],
   "source": []
  }
 ],
 "metadata": {
  "kernelspec": {
   "display_name": "Python 3",
   "language": "python",
   "name": "python3"
  },
  "language_info": {
   "codemirror_mode": {
    "name": "ipython",
    "version": 3
   },
   "file_extension": ".py",
   "mimetype": "text/x-python",
   "name": "python",
   "nbconvert_exporter": "python",
   "pygments_lexer": "ipython3",
   "version": "3.8.5"
  }
 },
 "nbformat": 4,
 "nbformat_minor": 4
}
