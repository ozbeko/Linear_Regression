{
 "cells": [
  {
   "cell_type": "code",
   "execution_count": 1,
   "metadata": {},
   "outputs": [],
   "source": [
    "import numpy as np\n",
    "import pandas as pd\n",
    "import matplotlib.pyplot as plt\n",
    "import seaborn as sns\n",
    "%matplotlib inline"
   ]
  },
  {
   "cell_type": "markdown",
   "metadata": {},
   "source": [
    "### Data Collecting"
   ]
  },
  {
   "cell_type": "code",
   "execution_count": 2,
   "metadata": {},
   "outputs": [
    {
     "data": {
      "text/html": [
       "<div>\n",
       "<style scoped>\n",
       "    .dataframe tbody tr th:only-of-type {\n",
       "        vertical-align: middle;\n",
       "    }\n",
       "\n",
       "    .dataframe tbody tr th {\n",
       "        vertical-align: top;\n",
       "    }\n",
       "\n",
       "    .dataframe thead th {\n",
       "        text-align: right;\n",
       "    }\n",
       "</style>\n",
       "<table border=\"1\" class=\"dataframe\">\n",
       "  <thead>\n",
       "    <tr style=\"text-align: right;\">\n",
       "      <th></th>\n",
       "      <th>Gender</th>\n",
       "      <th>Age Range</th>\n",
       "      <th>Head Size(cm^3)</th>\n",
       "      <th>Brain Weight(grams)</th>\n",
       "    </tr>\n",
       "  </thead>\n",
       "  <tbody>\n",
       "    <tr>\n",
       "      <th>0</th>\n",
       "      <td>1</td>\n",
       "      <td>1</td>\n",
       "      <td>4512</td>\n",
       "      <td>1530</td>\n",
       "    </tr>\n",
       "    <tr>\n",
       "      <th>1</th>\n",
       "      <td>1</td>\n",
       "      <td>1</td>\n",
       "      <td>3738</td>\n",
       "      <td>1297</td>\n",
       "    </tr>\n",
       "    <tr>\n",
       "      <th>2</th>\n",
       "      <td>1</td>\n",
       "      <td>1</td>\n",
       "      <td>4261</td>\n",
       "      <td>1335</td>\n",
       "    </tr>\n",
       "    <tr>\n",
       "      <th>3</th>\n",
       "      <td>1</td>\n",
       "      <td>1</td>\n",
       "      <td>3777</td>\n",
       "      <td>1282</td>\n",
       "    </tr>\n",
       "    <tr>\n",
       "      <th>4</th>\n",
       "      <td>1</td>\n",
       "      <td>1</td>\n",
       "      <td>4177</td>\n",
       "      <td>1590</td>\n",
       "    </tr>\n",
       "  </tbody>\n",
       "</table>\n",
       "</div>"
      ],
      "text/plain": [
       "   Gender  Age Range  Head Size(cm^3)  Brain Weight(grams)\n",
       "0       1          1             4512                 1530\n",
       "1       1          1             3738                 1297\n",
       "2       1          1             4261                 1335\n",
       "3       1          1             3777                 1282\n",
       "4       1          1             4177                 1590"
      ]
     },
     "execution_count": 2,
     "metadata": {},
     "output_type": "execute_result"
    }
   ],
   "source": [
    "data = pd.read_csv('headbrain.csv')\n",
    "data.head()"
   ]
  },
  {
   "cell_type": "markdown",
   "metadata": {},
   "source": [
    "### Data Analyzing"
   ]
  },
  {
   "cell_type": "code",
   "execution_count": 3,
   "metadata": {},
   "outputs": [
    {
     "name": "stdout",
     "output_type": "stream",
     "text": [
      "<class 'pandas.core.frame.DataFrame'>\n",
      "RangeIndex: 237 entries, 0 to 236\n",
      "Data columns (total 4 columns):\n",
      " #   Column               Non-Null Count  Dtype\n",
      "---  ------               --------------  -----\n",
      " 0   Gender               237 non-null    int64\n",
      " 1   Age Range            237 non-null    int64\n",
      " 2   Head Size(cm^3)      237 non-null    int64\n",
      " 3   Brain Weight(grams)  237 non-null    int64\n",
      "dtypes: int64(4)\n",
      "memory usage: 7.5 KB\n"
     ]
    }
   ],
   "source": [
    "data.info()"
   ]
  },
  {
   "cell_type": "code",
   "execution_count": 4,
   "metadata": {},
   "outputs": [
    {
     "data": {
      "image/png": "[encoded data removed]",
      "text/plain": [
       "<Figure size 720x360 with 2 Axes>"
      ]
     },
     "metadata": {
      "needs_background": "light"
     },
     "output_type": "display_data"
    }
   ],
   "source": [
    "fig, axes = plt.subplots(1, 2, figsize=(10, 5))\n",
    "fig.suptitle('Analyzing the Brain Weight Data')\n",
    "\n",
    "axes[0].scatter(data['Head Size(cm^3)'].values, data['Brain Weight(grams)'].values)\n",
    "axes[0].set(xlabel='Head Size in cm^3', ylabel='Brain Weight in grams')\n",
    "axes[0].set_title('Head Size vs Brain Weight')\n",
    "\n",
    "sns.countplot(ax=axes[1], data=data, x='Age Range', hue='Gender')\n",
    "axes[1].set_title('Gender - Age Range')\n",
    "\n",
    "plt.show()"
   ]
  },
  {
   "cell_type": "code",
   "execution_count": 5,
   "metadata": {},
   "outputs": [
    {
     "name": "stdout",
     "output_type": "stream",
     "text": [
      "(165, 3) (165,)\n",
      "(72, 3) (72,)\n"
     ]
    },
    {
     "data": {
      "text/html": [
       "<div>\n",
       "<style scoped>\n",
       "    .dataframe tbody tr th:only-of-type {\n",
       "        vertical-align: middle;\n",
       "    }\n",
       "\n",
       "    .dataframe tbody tr th {\n",
       "        vertical-align: top;\n",
       "    }\n",
       "\n",
       "    .dataframe thead th {\n",
       "        text-align: right;\n",
       "    }\n",
       "</style>\n",
       "<table border=\"1\" class=\"dataframe\">\n",
       "  <thead>\n",
       "    <tr style=\"text-align: right;\">\n",
       "      <th></th>\n",
       "      <th>Gender</th>\n",
       "      <th>Age Range</th>\n",
       "      <th>Head Size(cm^3)</th>\n",
       "    </tr>\n",
       "  </thead>\n",
       "  <tbody>\n",
       "    <tr>\n",
       "      <th>71</th>\n",
       "      <td>1</td>\n",
       "      <td>2</td>\n",
       "      <td>3858</td>\n",
       "    </tr>\n",
       "    <tr>\n",
       "      <th>91</th>\n",
       "      <td>1</td>\n",
       "      <td>2</td>\n",
       "      <td>3318</td>\n",
       "    </tr>\n",
       "    <tr>\n",
       "      <th>23</th>\n",
       "      <td>1</td>\n",
       "      <td>1</td>\n",
       "      <td>3710</td>\n",
       "    </tr>\n",
       "    <tr>\n",
       "      <th>64</th>\n",
       "      <td>1</td>\n",
       "      <td>2</td>\n",
       "      <td>3727</td>\n",
       "    </tr>\n",
       "    <tr>\n",
       "      <th>170</th>\n",
       "      <td>2</td>\n",
       "      <td>1</td>\n",
       "      <td>3145</td>\n",
       "    </tr>\n",
       "  </tbody>\n",
       "</table>\n",
       "</div>"
      ],
      "text/plain": [
       "     Gender  Age Range  Head Size(cm^3)\n",
       "71        1          2             3858\n",
       "91        1          2             3318\n",
       "23        1          1             3710\n",
       "64        1          2             3727\n",
       "170       2          1             3145"
      ]
     },
     "execution_count": 5,
     "metadata": {},
     "output_type": "execute_result"
    }
   ],
   "source": [
    "from sklearn.model_selection import train_test_split\n",
    "\n",
    "x = data.drop(['Brain Weight(grams)'], axis=1)\n",
    "y = data['Brain Weight(grams)']\n",
    "\n",
    "x_train, x_test, y_train, y_test = train_test_split(x, y, test_size=0.3)\n",
    "\n",
    "print(x_train.shape, y_train.shape)\n",
    "print(x_test.shape, y_test.shape)\n",
    "\n",
    "x_train.head(5)"
   ]
  },
  {
   "cell_type": "markdown",
   "metadata": {},
   "source": [
    "### Firstly, only 'Head Size' feature will be used for model"
   ]
  },
  {
   "cell_type": "code",
   "execution_count": 6,
   "metadata": {},
   "outputs": [
    {
     "name": "stdout",
     "output_type": "stream",
     "text": [
      "(165, 3) --> x shape   (72, 3) --> y shape\n"
     ]
    }
   ],
   "source": [
    "x_train_1 = x_train['Head Size(cm^3)']\n",
    "x_test_1 = x_test['Head Size(cm^3)']\n",
    "print(x_train.shape, '--> x shape  ', x_test.shape, '--> y shape')"
   ]
  },
  {
   "cell_type": "code",
   "execution_count": 7,
   "metadata": {},
   "outputs": [],
   "source": [
    "from sklearn import linear_model\n",
    "\n",
    "x_train_1 = np.array(x_train_1).reshape(len(x_train_1), 1)\n",
    "y_train_1 = np.array(y_train).reshape(len(y_train), 1)\n",
    "x_test_1 = np.array(x_test_1).reshape(len(x_test_1), 1)\n",
    "model_1 = linear_model.LinearRegression()\n",
    "model_1.fit(x_train_1, y_train_1)\n",
    "y_pred_1 = model_1.predict(x_test_1)"
   ]
  },
  {
   "cell_type": "code",
   "execution_count": 8,
   "metadata": {},
   "outputs": [
    {
     "name": "stdout",
     "output_type": "stream",
     "text": [
      "Coefficient:  [[0.26464727]]\n",
      "Intercept:  [320.88257877]\n",
      "Mean Squared Error: 5455.27 \n",
      "R-Squared: 0.62 \n"
     ]
    }
   ],
   "source": [
    "from sklearn.metrics import r2_score, mean_squared_error\n",
    "\n",
    "print(\"Coefficient: \", model_1.coef_)\n",
    "print(\"Intercept: \", model_1.intercept_)\n",
    "print(\"Mean Squared Error: %.2f \" % mean_squared_error(y_test, y_pred_1))\n",
    "print(\"R-Squared: %.2f \" % r2_score(y_test, y_pred_1))"
   ]
  },
  {
   "cell_type": "code",
   "execution_count": 28,
   "metadata": {},
   "outputs": [
    {
     "name": "stdout",
     "output_type": "stream",
     "text": [
      "Prediction \t Test Feature Values \t Test Target Value\n",
      "\t -------------------------------------------\n",
      "[1246.35408981] \t [3497] \t 1358\n",
      "[1246.35408981] \t [3497] \t 1280\n",
      "[1198.98222807] \t [3318] \t 1175\n",
      "[1241.32579163] \t [3478] \t 1270\n",
      "[1196.60040262] \t [3309] \t 1120\n",
      "[1176.48720993] \t [3233] \t 1104\n",
      "[1306.4290206] \t [3724] \t 1280\n",
      "[1422.07987857] \t [4161] \t 1405\n",
      "[1205.86305715] \t [3344] \t 1220\n",
      "[1353.00694052] \t [3900] \t 1270\n"
     ]
    }
   ],
   "source": [
    "print('Prediction \\t Test Feature Values \\t Test Target Value\\n\\t -------------------------------------------')\n",
    "for i in range(10):\n",
    "    print(y_pred_1[i], '\\t', x_test_1[i], '\\t', y_test.values[i]) "
   ]
  },
  {
   "cell_type": "code",
   "execution_count": 12,
   "metadata": {},
   "outputs": [
    {
     "data": {
      "image/png": "[encoded data removed]",
      "text/plain": [
       "<Figure size 432x288 with 1 Axes>"
      ]
     },
     "metadata": {
      "needs_background": "light"
     },
     "output_type": "display_data"
    }
   ],
   "source": [
    "x_line = np.linspace(np.min(x)['Head Size(cm^3)']-100, np.max(x)['Head Size(cm^3)']+100, 1000)\n",
    "reg_line = model_1.intercept_ + model_1.coef_[0] * x_line\n",
    "plt.plot(x_line, reg_line, color='r', linewidth=4, label='Regression Line')\n",
    "plt.scatter(x['Head Size(cm^3)'], y, color='b', label='Data')\n",
    "\n",
    "plt.xlabel('Head Size in cm3')\n",
    "plt.ylabel('Brain Weight in grams')\n",
    "plt.title('Linear Regression Model')\n",
    "plt.legend()\n",
    "plt.show()"
   ]
  },
  {
   "cell_type": "markdown",
   "metadata": {},
   "source": [
    "### Now, 'Age Range' and 'Gender' features will be added."
   ]
  },
  {
   "cell_type": "code",
   "execution_count": 13,
   "metadata": {},
   "outputs": [],
   "source": [
    "from sklearn import linear_model\n",
    "\n",
    "model_2 = linear_model.LinearRegression()\n",
    "model_2.fit(x_train, y_train)\n",
    "y_pred_2 = model_2.predict(x_test)"
   ]
  },
  {
   "cell_type": "code",
   "execution_count": 14,
   "metadata": {
    "scrolled": true
   },
   "outputs": [
    {
     "name": "stdout",
     "output_type": "stream",
     "text": [
      "Coefficient:  [-18.08917571 -20.84690473   0.24832997]\n",
      "Intercept:  438.5032681031835\n",
      "Mean Squared Error: 5165.81 \n",
      "R-Squared: 0.64 \n"
     ]
    }
   ],
   "source": [
    "from sklearn.metrics import r2_score, mean_squared_error\n",
    "\n",
    "print(\"Coefficient: \", model_2.coef_)\n",
    "print(\"Intercept: \", model_2.intercept_)\n",
    "print(\"Mean Squared Error: %.2f \" % mean_squared_error(y_test, y_pred_2))\n",
    "print(\"R-Squared: %.2f \" % r2_score(y_test, y_pred_2))"
   ]
  },
  {
   "cell_type": "code",
   "execution_count": 25,
   "metadata": {
    "scrolled": true
   },
   "outputs": [
    {
     "name": "stdout",
     "output_type": "stream",
     "text": [
      "Prediction \t\t Test Feature Values \t Test Target Value\n",
      "\t -------------------------------------------\n",
      "1267.977096955583 \t [   1    1 3497] \t 1358\n",
      "1249.8879212422553 \t [   2    1 3497] \t 1280\n",
      "1184.5899516620125 \t [   2    2 3318] \t 1175\n",
      "1242.411922767983 \t [   1    2 3478] \t 1270\n",
      "1200.4441576345039 \t [   1    2 3309] \t 1120\n",
      "1163.4819041096707 \t [   2    2 3233] \t 1104\n",
      "1306.2588247055673 \t [   2    1 3724] \t 1280\n",
      "1432.868197835051 \t [   1    1 4161] \t 1405\n",
      "1191.046530913317 \t [   2    2 3344] \t 1220\n",
      "1347.2071706160787 \t [   1    2 3900] \t 1270\n"
     ]
    }
   ],
   "source": [
    "print('Prediction \\t\\t Test Feature Values \\t Test Target Value\\n\\t -------------------------------------------')\n",
    "for i in range(10):\n",
    "    print(y_pred_2[i], '\\t', x_test.values[i], '\\t', y_test.values[i])"
   ]
  }
 ],
 "metadata": {
  "kernelspec": {
   "display_name": "Python 3",
   "language": "python",
   "name": "python3"
  },
  "language_info": {
   "codemirror_mode": {
    "name": "ipython",
    "version": 3
   },
   "file_extension": ".py",
   "mimetype": "text/x-python",
   "name": "python",
   "nbconvert_exporter": "python",
   "pygments_lexer": "ipython3",
   "version": "3.8.5"
  }
 },
 "nbformat": 4,
 "nbformat_minor": 4
}
