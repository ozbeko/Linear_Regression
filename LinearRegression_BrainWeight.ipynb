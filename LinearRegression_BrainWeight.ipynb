{
 "cells": [
  {
   "cell_type": "code",
   "execution_count": 2,
   "metadata": {},
   "outputs": [],
   "source": [
    "import numpy as np\n",
    "import pandas as pd\n",
    "import matplotlib.pyplot as plt\n",
    "from sklearn import linear_model\n",
    "from sklearn.model_selection import train_test_split\n",
    "from sklearn.metrics import r2_score, mean_squared_error\n",
    "%matplotlib inline"
   ]
  },
  {
   "cell_type": "code",
   "execution_count": 3,
   "metadata": {},
   "outputs": [
    {
     "data": {
      "text/html": [
       "<div>\n",
       "<style scoped>\n",
       "    .dataframe tbody tr th:only-of-type {\n",
       "        vertical-align: middle;\n",
       "    }\n",
       "\n",
       "    .dataframe tbody tr th {\n",
       "        vertical-align: top;\n",
       "    }\n",
       "\n",
       "    .dataframe thead th {\n",
       "        text-align: right;\n",
       "    }\n",
       "</style>\n",
       "<table border=\"1\" class=\"dataframe\">\n",
       "  <thead>\n",
       "    <tr style=\"text-align: right;\">\n",
       "      <th></th>\n",
       "      <th>Gender</th>\n",
       "      <th>Age Range</th>\n",
       "      <th>Head Size(cm^3)</th>\n",
       "      <th>Brain Weight(grams)</th>\n",
       "    </tr>\n",
       "  </thead>\n",
       "  <tbody>\n",
       "    <tr>\n",
       "      <th>0</th>\n",
       "      <td>1</td>\n",
       "      <td>1</td>\n",
       "      <td>4512</td>\n",
       "      <td>1530</td>\n",
       "    </tr>\n",
       "    <tr>\n",
       "      <th>1</th>\n",
       "      <td>1</td>\n",
       "      <td>1</td>\n",
       "      <td>3738</td>\n",
       "      <td>1297</td>\n",
       "    </tr>\n",
       "    <tr>\n",
       "      <th>2</th>\n",
       "      <td>1</td>\n",
       "      <td>1</td>\n",
       "      <td>4261</td>\n",
       "      <td>1335</td>\n",
       "    </tr>\n",
       "    <tr>\n",
       "      <th>3</th>\n",
       "      <td>1</td>\n",
       "      <td>1</td>\n",
       "      <td>3777</td>\n",
       "      <td>1282</td>\n",
       "    </tr>\n",
       "    <tr>\n",
       "      <th>4</th>\n",
       "      <td>1</td>\n",
       "      <td>1</td>\n",
       "      <td>4177</td>\n",
       "      <td>1590</td>\n",
       "    </tr>\n",
       "  </tbody>\n",
       "</table>\n",
       "</div>"
      ],
      "text/plain": [
       "   Gender  Age Range  Head Size(cm^3)  Brain Weight(grams)\n",
       "0       1          1             4512                 1530\n",
       "1       1          1             3738                 1297\n",
       "2       1          1             4261                 1335\n",
       "3       1          1             3777                 1282\n",
       "4       1          1             4177                 1590"
      ]
     },
     "execution_count": 3,
     "metadata": {},
     "output_type": "execute_result"
    }
   ],
   "source": [
    "data = pd.read_csv('headbrain.csv')\n",
    "data.head()"
   ]
  },
  {
   "cell_type": "code",
   "execution_count": 4,
   "metadata": {},
   "outputs": [],
   "source": [
    "data = data[[\"Gender\", \"Age Range\", \"Head Size(cm^3)\", \"Brain Weight(grams)\"]]\n",
    "predict = \"Brain Weight(grams)\""
   ]
  },
  {
   "cell_type": "code",
   "execution_count": 13,
   "metadata": {},
   "outputs": [],
   "source": [
    "x = np.array(data.drop([predict], 1))\n",
    "y = np.array(data[predict])"
   ]
  },
  {
   "cell_type": "code",
   "execution_count": 18,
   "metadata": {},
   "outputs": [],
   "source": [
    "x_train, x_test, y_train, y_test = train_test_split(x, y, test_size=0.2)"
   ]
  },
  {
   "cell_type": "code",
   "execution_count": 19,
   "metadata": {},
   "outputs": [
    {
     "name": "stdout",
     "output_type": "stream",
     "text": [
      "(189, 3) (189,)\n",
      "(48, 3) (48,)\n"
     ]
    }
   ],
   "source": [
    "print(x_train.shape, y_train.shape)\n",
    "print(x_test.shape, y_test.shape)"
   ]
  },
  {
   "cell_type": "code",
   "execution_count": 20,
   "metadata": {},
   "outputs": [],
   "source": [
    "model = linear_model.LinearRegression()\n",
    "model.fit(x_train, y_train)\n",
    "predictions = model.predict(x_test)"
   ]
  },
  {
   "cell_type": "code",
   "execution_count": 21,
   "metadata": {
    "scrolled": true
   },
   "outputs": [
    {
     "name": "stdout",
     "output_type": "stream",
     "text": [
      "Coefficient: \n",
      " [-21.60703913 -22.1889653    0.2421076 ]\n",
      "Intercept: \n",
      " 467.6781013115183\n",
      "MSE: 4627.95 \n",
      "\n",
      "R2: 0.72 \n",
      "\n"
     ]
    }
   ],
   "source": [
    "print(\"Coefficient: \\n\", model.coef_)\n",
    "print(\"Intercept: \\n\", model.intercept_)\n",
    "print(\"MSE: %.2f \\n\" % mean_squared_error(y_test, predictions))\n",
    "print(\"R2: %.2f \\n\" % r2_score(y_test, predictions))"
   ]
  },
  {
   "cell_type": "code",
   "execution_count": 22,
   "metadata": {
    "scrolled": true
   },
   "outputs": [
    {
     "name": "stdout",
     "output_type": "stream",
     "text": [
      "1257.6412034104728 [   2    1 3533] 1210\n",
      "1365.621192361318 [   2    1 3979] 1324\n",
      "1276.0413808998546 [   2    1 3609] 1210\n",
      "1401.0283646079074 [   1    1 4036] 1490\n",
      "1223.164213444154 [   1    2 3393] 1175\n",
      "1264.420216169719 [   2    1 3561] 1127\n",
      "1162.8199585474817 [   2    2 3233] 1104\n",
      "1347.2804777310294 [   1    1 3814] 1207\n",
      "1161.6094205547593 [   2    2 3228] 1235\n",
      "1289.2595878468014 [   1    2 3666] 1270\n",
      "1346.2525844777583 [   2    1 3899] 1380\n",
      "1516.271581515087 [   1    1 4512] 1530\n",
      "1347.3059486383877 [   2    2 3995] 1296\n",
      "1345.6706583076689 [   1    2 3899] 1346\n",
      "1173.205114377537 [   1    1 3095] 1340\n",
      "1183.3991044237641 [   2    2 3318] 1175\n",
      "1265.6307541624415 [   2    1 3566] 1306\n",
      "1276.6105298633947 [   2    2 3703] 1350\n",
      "1573.1668671730436 [   1    1 4747] 1635\n",
      "1224.616859035421 [   1    2 3399] 1173\n",
      "1165.9673573285604 [   2    2 3246] 1180\n",
      "1342.9225409572282 [   1    1 3796] 1432\n",
      "1202.8271751664165 [   1    2 3309] 1120\n",
      "1147.5671798391786 [   2    2 3170] 1178\n",
      "1263.0525043449031 [   2    2 3647] 1408\n",
      "1158.2199141751366 [   2    2 3214] 1110\n",
      "1317.3440692779627 [   1    2 3782] 1350\n",
      "1205.0061435533169 [   1    2 3318] 1192\n",
      "1188.6405378252916 [   2    1 3248] 1250\n",
      "1295.4099887834143 [   2    1 3689] 1290\n",
      "1189.693901985921 [   2    2 3344] 1220\n",
      "1468.5763846018215 [   1    1 4315] 1525\n",
      "1407.5652697686087 [   1    1 4063] 1390\n",
      "1073.482254684563 [   2    2 2864] 1012\n",
      "1196.145873380171 [   2    1 3279] 1265\n",
      "1431.2918144259693 [   1    1 4161] 1405\n",
      "1397.6388582282843 [   1    1 4022] 1485\n",
      "1247.8591884956927 [   1    2 3495] 1218\n",
      "1103.745704502625 [   2    2 2989] 1130\n",
      "1269.3218309997017 [   1    1 3492] 1250\n",
      "1215.6588778892747 [   1    2 3362] 1188\n",
      "1199.2932721612497 [   2    1 3292] 1075\n",
      "1291.8378376643398 [   1    1 3585] 1300\n",
      "1228.5882915851334 [   2    1 3413] 1322\n",
      "1244.5673930890703 [   2    1 3479] 1160\n",
      "1267.7120115763412 [   1    2 3577] 1245\n",
      "1353.9023166581817 [   1    2 3933] 1309\n",
      "1188.3007192537466 [   1    2 3249] 1279\n"
     ]
    }
   ],
   "source": [
    "for x in range(len(predictions)):\n",
    "    print(predictions[x], x_test[x], y_test[x])"
   ]
  },
  {
   "cell_type": "code",
   "execution_count": 23,
   "metadata": {},
   "outputs": [
    {
     "data": {
      "image/png": "[encoded data removed]",
      "text/plain": [
       "<Figure size 432x288 with 1 Axes>"
      ]
     },
     "metadata": {
      "needs_background": "light"
     },
     "output_type": "display_data"
    }
   ],
   "source": [
    "plt.scatter(y_test, predictions, c= '#ef5423', label = 'Scatter Plot')\n",
    "\n",
    "plt.xlabel('Brain Weight in grams')\n",
    "plt.ylabel('Predictions')\n",
    "plt.legend()\n",
    "plt.show()"
   ]
  },
  {
   "cell_type": "code",
   "execution_count": null,
   "metadata": {},
   "outputs": [],
   "source": []
  }
 ],
 "metadata": {
  "kernelspec": {
   "display_name": "Python 3",
   "language": "python",
   "name": "python3"
  },
  "language_info": {
   "codemirror_mode": {
    "name": "ipython",
    "version": 3
   },
   "file_extension": ".py",
   "mimetype": "text/x-python",
   "name": "python",
   "nbconvert_exporter": "python",
   "pygments_lexer": "ipython3",
   "version": "3.8.5"
  }
 },
 "nbformat": 4,
 "nbformat_minor": 4
}
