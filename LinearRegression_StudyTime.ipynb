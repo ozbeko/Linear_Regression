{
 "cells": [
  {
   "cell_type": "code",
   "execution_count": 2,
   "metadata": {},
   "outputs": [],
   "source": [
    "import pandas as pd\n",
    "import numpy as np\n",
    "import sklearn\n",
    "from sklearn import linear_model\n",
    "from sklearn.utils import shuffle"
   ]
  },
  {
   "cell_type": "code",
   "execution_count": 5,
   "metadata": {},
   "outputs": [],
   "source": [
    "data = pd.read_csv(\"student-mat.csv\", sep=\";\")"
   ]
  },
  {
   "cell_type": "code",
   "execution_count": 15,
   "metadata": {
    "scrolled": false
   },
   "outputs": [
    {
     "data": {
      "text/html": [
       "<div>\n",
       "<style scoped>\n",
       "    .dataframe tbody tr th:only-of-type {\n",
       "        vertical-align: middle;\n",
       "    }\n",
       "\n",
       "    .dataframe tbody tr th {\n",
       "        vertical-align: top;\n",
       "    }\n",
       "\n",
       "    .dataframe thead th {\n",
       "        text-align: right;\n",
       "    }\n",
       "</style>\n",
       "<table border=\"1\" class=\"dataframe\">\n",
       "  <thead>\n",
       "    <tr style=\"text-align: right;\">\n",
       "      <th></th>\n",
       "      <th>G1</th>\n",
       "      <th>G2</th>\n",
       "      <th>G3</th>\n",
       "      <th>studytime</th>\n",
       "      <th>failures</th>\n",
       "      <th>absences</th>\n",
       "    </tr>\n",
       "  </thead>\n",
       "  <tbody>\n",
       "    <tr>\n",
       "      <th>0</th>\n",
       "      <td>5</td>\n",
       "      <td>6</td>\n",
       "      <td>6</td>\n",
       "      <td>2</td>\n",
       "      <td>0</td>\n",
       "      <td>6</td>\n",
       "    </tr>\n",
       "    <tr>\n",
       "      <th>1</th>\n",
       "      <td>5</td>\n",
       "      <td>5</td>\n",
       "      <td>6</td>\n",
       "      <td>2</td>\n",
       "      <td>0</td>\n",
       "      <td>4</td>\n",
       "    </tr>\n",
       "    <tr>\n",
       "      <th>2</th>\n",
       "      <td>7</td>\n",
       "      <td>8</td>\n",
       "      <td>10</td>\n",
       "      <td>2</td>\n",
       "      <td>3</td>\n",
       "      <td>10</td>\n",
       "    </tr>\n",
       "    <tr>\n",
       "      <th>3</th>\n",
       "      <td>15</td>\n",
       "      <td>14</td>\n",
       "      <td>15</td>\n",
       "      <td>3</td>\n",
       "      <td>0</td>\n",
       "      <td>2</td>\n",
       "    </tr>\n",
       "    <tr>\n",
       "      <th>4</th>\n",
       "      <td>6</td>\n",
       "      <td>10</td>\n",
       "      <td>10</td>\n",
       "      <td>2</td>\n",
       "      <td>0</td>\n",
       "      <td>4</td>\n",
       "    </tr>\n",
       "  </tbody>\n",
       "</table>\n",
       "</div>"
      ],
      "text/plain": [
       "   G1  G2  G3  studytime  failures  absences\n",
       "0   5   6   6          2         0         6\n",
       "1   5   5   6          2         0         4\n",
       "2   7   8  10          2         3        10\n",
       "3  15  14  15          3         0         2\n",
       "4   6  10  10          2         0         4"
      ]
     },
     "execution_count": 15,
     "metadata": {},
     "output_type": "execute_result"
    }
   ],
   "source": [
    "data.head()"
   ]
  },
  {
   "cell_type": "code",
   "execution_count": 7,
   "metadata": {},
   "outputs": [],
   "source": [
    "data = data[[\"G1\", \"G2\", \"G3\", \"studytime\", \"failures\", \"absences\"]]"
   ]
  },
  {
   "cell_type": "code",
   "execution_count": 8,
   "metadata": {},
   "outputs": [],
   "source": [
    "predict = \"G3\"\n",
    "\n",
    "x = np.array(data.drop([predict], 1))\n",
    "y = np.array(data[predict])"
   ]
  },
  {
   "cell_type": "code",
   "execution_count": 24,
   "metadata": {},
   "outputs": [],
   "source": [
    "x_train, x_test, y_train, y_test = sklearn.model_selection.train_test_split(x, y, test_size=0.1) "
   ]
  },
  {
   "cell_type": "code",
   "execution_count": 27,
   "metadata": {},
   "outputs": [
    {
     "name": "stdout",
     "output_type": "stream",
     "text": [
      "0.879869359677474\n"
     ]
    }
   ],
   "source": [
    "linear = linear_model.LinearRegression()\n",
    "linear.fit(x_train, y_train)\n",
    "acc = linear.score(x_test, y_test)\n",
    "print(acc)"
   ]
  },
  {
   "cell_type": "code",
   "execution_count": 28,
   "metadata": {},
   "outputs": [
    {
     "name": "stdout",
     "output_type": "stream",
     "text": [
      "Coefficient: \n",
      " [ 0.15209273  0.98486257 -0.15490818 -0.28465729  0.03734629]\n",
      "Intercept: \n",
      " -1.6714679531471308\n"
     ]
    }
   ],
   "source": [
    "print(\"Coefficient: \\n\", linear.coef_)\n",
    "print(\"Intercept: \\n\", linear.intercept_)"
   ]
  },
  {
   "cell_type": "code",
   "execution_count": 29,
   "metadata": {},
   "outputs": [
    {
     "name": "stdout",
     "output_type": "stream",
     "text": [
      "11.219906211114253 [11 12  3  1  4] 11\n",
      "10.599916533815604 [11 11  2  0  2] 11\n",
      "7.9413915744110035 [10  8  2  0 14] 9\n",
      "6.489986946612797 [8 8 1 3 2] 10\n",
      "15.187899465691983 [14 15  1  0  3] 16\n",
      "9.580990430291152 [ 7 10  2  1 25] 11\n",
      "11.088125869314753 [12 11  2  0 11] 11\n",
      "7.114358062788849 [8 8 2 0 0] 9\n",
      "8.962816211051528 [10 10  3  2  8] 10\n",
      "11.587594557606437 [10 12  1  0  2] 12\n",
      "11.955534434939349 [10 12  2  0 16] 11\n",
      "6.278880651954924 [8 7 2 0 4] 6\n",
      "14.45904332780628 [13 15  4  0  0] 15\n",
      "9.617869417186299 [10 10  1  0  2] 10\n",
      "9.626459422715234 [10 10  2  1 14] 9\n",
      "12.79913454835332 [13 13  2  0  0] 13\n",
      "16.348339556853254 [16 16  4  0 12] 16\n",
      "5.334179825169654 [7 6 1 0 5] 7\n",
      "4.27191710774483 [6 5 1 0 7] 6\n",
      "14.920952415676284 [14 15  2  0  0] 15\n",
      "9.695269564401054 [11 10  1  0  0] 10\n",
      "10.381507922176 [13 10  2  1 22] 11\n",
      "-1.071543406278113 [7 0 3 0 0] 0\n",
      "7.133994110532678 [8 8 1 1 4] 8\n",
      "12.901945295260079 [15 13  3  2 14] 13\n",
      "6.353573231642995 [8 7 2 0 6] 9\n",
      "12.647041821450495 [12 13  2  0  0] 13\n",
      "15.97769211199366 [15 16  3  0  2] 18\n",
      "7.2977056071228485 [5 9 2 2 6] 7\n",
      "11.833800139833002 [15 12  2  1  0] 12\n",
      "10.525223954127533 [11 11  2  0  0] 10\n",
      "7.946914595518448 [10  8  1  0 10] 9\n",
      "9.76714669050836 [12 10  2  0  2] 11\n",
      "4.151647649578596 [ 5  5  2  0 12] 5\n",
      "10.829409407933184 [13 11  2  0  0] 10\n",
      "18.481095580337033 [19 18  3  0  0] 19\n",
      "11.808643532512246 [14 11  1  0 18] 13\n",
      "8.552791246180712 [10  9  2  0  4] 11\n",
      "7.639913688132033 [ 9  8  2  0 10] 8\n",
      "8.931990476306158 [ 7 10  2  0  0] 11\n"
     ]
    }
   ],
   "source": [
    "predictions = linear.predict(x_test)\n",
    "for x in range(len(predictions)):\n",
    "    print(predictions[x], x_test[x], y_test[x])"
   ]
  },
  {
   "cell_type": "code",
   "execution_count": null,
   "metadata": {},
   "outputs": [],
   "source": []
  }
 ],
 "metadata": {
  "kernelspec": {
   "display_name": "Python 3",
   "language": "python",
   "name": "python3"
  },
  "language_info": {
   "codemirror_mode": {
    "name": "ipython",
    "version": 3
   },
   "file_extension": ".py",
   "mimetype": "text/x-python",
   "name": "python",
   "nbconvert_exporter": "python",
   "pygments_lexer": "ipython3",
   "version": "3.8.5"
  }
 },
 "nbformat": 4,
 "nbformat_minor": 4
}
